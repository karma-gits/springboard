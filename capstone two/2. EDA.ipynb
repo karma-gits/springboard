{
 "cells": [
  {
   "cell_type": "markdown",
   "metadata": {},
   "source": [
    "# Capstone Two: Exploratory Data Analysis"
   ]
  },
  {
   "cell_type": "code",
   "execution_count": 2,
   "metadata": {},
   "outputs": [],
   "source": [
    "# import libiraries\n",
    "import pandas as pd\n",
    "import numpy as np\n",
    "import matplotlib.pyplot as plt\n",
    "import seaborn as sns"
   ]
  },
  {
   "cell_type": "code",
   "execution_count": 11,
   "metadata": {},
   "outputs": [
    {
     "data": {
      "text/html": [
       "<div>\n",
       "<style scoped>\n",
       "    .dataframe tbody tr th:only-of-type {\n",
       "        vertical-align: middle;\n",
       "    }\n",
       "\n",
       "    .dataframe tbody tr th {\n",
       "        vertical-align: top;\n",
       "    }\n",
       "\n",
       "    .dataframe thead th {\n",
       "        text-align: right;\n",
       "    }\n",
       "</style>\n",
       "<table border=\"1\" class=\"dataframe\">\n",
       "  <thead>\n",
       "    <tr style=\"text-align: right;\">\n",
       "      <th></th>\n",
       "      <th>userId</th>\n",
       "      <th>productId</th>\n",
       "      <th>userRating</th>\n",
       "      <th>productName</th>\n",
       "      <th>productRating</th>\n",
       "      <th>noOfRatings</th>\n",
       "      <th>price</th>\n",
       "    </tr>\n",
       "  </thead>\n",
       "  <tbody>\n",
       "    <tr>\n",
       "      <th>0</th>\n",
       "      <td>1</td>\n",
       "      <td>44</td>\n",
       "      <td>2.1</td>\n",
       "      <td>Samsung Galaxy M04 Light Green, 4GB RAM, 64GB ...</td>\n",
       "      <td>4.0</td>\n",
       "      <td>703</td>\n",
       "      <td>147.160</td>\n",
       "    </tr>\n",
       "    <tr>\n",
       "      <th>1</th>\n",
       "      <td>1</td>\n",
       "      <td>30</td>\n",
       "      <td>2.1</td>\n",
       "      <td>Hammer Ace 3.0 Bluetooth Calling Smart Watch w...</td>\n",
       "      <td>3.9</td>\n",
       "      <td>844</td>\n",
       "      <td>61.308</td>\n",
       "    </tr>\n",
       "    <tr>\n",
       "      <th>2</th>\n",
       "      <td>1</td>\n",
       "      <td>50</td>\n",
       "      <td>1.6</td>\n",
       "      <td>Redmi 10A (Slate Grey, 4GB RAM, 64GB Storage) ...</td>\n",
       "      <td>4.0</td>\n",
       "      <td>254</td>\n",
       "      <td>147.160</td>\n",
       "    </tr>\n",
       "    <tr>\n",
       "      <th>3</th>\n",
       "      <td>1</td>\n",
       "      <td>4</td>\n",
       "      <td>4.6</td>\n",
       "      <td>Samsung Galaxy M33 5G (Mystique Green, 6GB, 12...</td>\n",
       "      <td>4.1</td>\n",
       "      <td>701</td>\n",
       "      <td>306.592</td>\n",
       "    </tr>\n",
       "    <tr>\n",
       "      <th>4</th>\n",
       "      <td>1</td>\n",
       "      <td>3</td>\n",
       "      <td>2.0</td>\n",
       "      <td>OnePlus Bullets Z2 Bluetooth Wireless in Ear E...</td>\n",
       "      <td>4.2</td>\n",
       "      <td>54</td>\n",
       "      <td>28.197</td>\n",
       "    </tr>\n",
       "  </tbody>\n",
       "</table>\n",
       "</div>"
      ],
      "text/plain": [
       "   userId  productId  userRating  \\\n",
       "0       1         44         2.1   \n",
       "1       1         30         2.1   \n",
       "2       1         50         1.6   \n",
       "3       1          4         4.6   \n",
       "4       1          3         2.0   \n",
       "\n",
       "                                         productName  productRating  \\\n",
       "0  Samsung Galaxy M04 Light Green, 4GB RAM, 64GB ...            4.0   \n",
       "1  Hammer Ace 3.0 Bluetooth Calling Smart Watch w...            3.9   \n",
       "2  Redmi 10A (Slate Grey, 4GB RAM, 64GB Storage) ...            4.0   \n",
       "3  Samsung Galaxy M33 5G (Mystique Green, 6GB, 12...            4.1   \n",
       "4  OnePlus Bullets Z2 Bluetooth Wireless in Ear E...            4.2   \n",
       "\n",
       "   noOfRatings    price  \n",
       "0          703  147.160  \n",
       "1          844   61.308  \n",
       "2          254  147.160  \n",
       "3          701  306.592  \n",
       "4           54   28.197  "
      ]
     },
     "execution_count": 11,
     "metadata": {},
     "output_type": "execute_result"
    }
   ],
   "source": [
    "# loading clean data\n",
    "df = pd.read_csv('data/cleanData.csv')\n",
    "df.head()"
   ]
  }
 ],
 "metadata": {
  "kernelspec": {
   "display_name": "base",
   "language": "python",
   "name": "python3"
  },
  "language_info": {
   "codemirror_mode": {
    "name": "ipython",
    "version": 3
   },
   "file_extension": ".py",
   "mimetype": "text/x-python",
   "name": "python",
   "nbconvert_exporter": "python",
   "pygments_lexer": "ipython3",
   "version": "3.11.5"
  }
 },
 "nbformat": 4,
 "nbformat_minor": 2
}
