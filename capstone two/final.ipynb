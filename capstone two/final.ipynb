{
 "cells": [
  {
   "cell_type": "code",
   "execution_count": 5,
   "metadata": {},
   "outputs": [],
   "source": [
    "# import libiraries\n",
    "import pandas as pd\n",
    "import numpy as np\n",
    "import matplotlib.pyplot as plt\n",
    "import seaborn as sns\n",
    "from scipy import stats\n",
    "plt.style.use('ggplot')\n"
   ]
  },
  {
   "cell_type": "code",
   "execution_count": 6,
   "metadata": {},
   "outputs": [
    {
     "data": {
      "text/html": [
       "<div>\n",
       "<style scoped>\n",
       "    .dataframe tbody tr th:only-of-type {\n",
       "        vertical-align: middle;\n",
       "    }\n",
       "\n",
       "    .dataframe tbody tr th {\n",
       "        vertical-align: top;\n",
       "    }\n",
       "\n",
       "    .dataframe thead th {\n",
       "        text-align: right;\n",
       "    }\n",
       "</style>\n",
       "<table border=\"1\" class=\"dataframe\">\n",
       "  <thead>\n",
       "    <tr style=\"text-align: right;\">\n",
       "      <th></th>\n",
       "      <th>user_id</th>\n",
       "      <th>product_id</th>\n",
       "      <th>user_rating</th>\n",
       "    </tr>\n",
       "  </thead>\n",
       "  <tbody>\n",
       "    <tr>\n",
       "      <th>0</th>\n",
       "      <td>1</td>\n",
       "      <td>44</td>\n",
       "      <td>2.1</td>\n",
       "    </tr>\n",
       "    <tr>\n",
       "      <th>1</th>\n",
       "      <td>1</td>\n",
       "      <td>30</td>\n",
       "      <td>2.1</td>\n",
       "    </tr>\n",
       "    <tr>\n",
       "      <th>2</th>\n",
       "      <td>1</td>\n",
       "      <td>50</td>\n",
       "      <td>1.6</td>\n",
       "    </tr>\n",
       "    <tr>\n",
       "      <th>3</th>\n",
       "      <td>1</td>\n",
       "      <td>4</td>\n",
       "      <td>4.6</td>\n",
       "    </tr>\n",
       "    <tr>\n",
       "      <th>4</th>\n",
       "      <td>1</td>\n",
       "      <td>3</td>\n",
       "      <td>2.0</td>\n",
       "    </tr>\n",
       "  </tbody>\n",
       "</table>\n",
       "</div>"
      ],
      "text/plain": [
       "   user_id  product_id  user_rating\n",
       "0        1          44          2.1\n",
       "1        1          30          2.1\n",
       "2        1          50          1.6\n",
       "3        1           4          4.6\n",
       "4        1           3          2.0"
      ]
     },
     "execution_count": 6,
     "metadata": {},
     "output_type": "execute_result"
    }
   ],
   "source": [
    "# loading the datas\n",
    "customer = pd.read_csv('data/user_purchase_data.csv')\n",
    "products = pd.read_csv('data/products.csv')\n",
    "### Cleaning and joining the data\n",
    "#check customers data\n",
    "customer.head()"
   ]
  },
  {
   "cell_type": "code",
   "execution_count": 7,
   "metadata": {},
   "outputs": [
    {
     "data": {
      "text/html": [
       "<div>\n",
       "<style scoped>\n",
       "    .dataframe tbody tr th:only-of-type {\n",
       "        vertical-align: middle;\n",
       "    }\n",
       "\n",
       "    .dataframe tbody tr th {\n",
       "        vertical-align: top;\n",
       "    }\n",
       "\n",
       "    .dataframe thead th {\n",
       "        text-align: right;\n",
       "    }\n",
       "</style>\n",
       "<table border=\"1\" class=\"dataframe\">\n",
       "  <thead>\n",
       "    <tr style=\"text-align: right;\">\n",
       "      <th></th>\n",
       "      <th>Product_ID</th>\n",
       "      <th>name</th>\n",
       "      <th>main_category</th>\n",
       "      <th>sub_category</th>\n",
       "      <th>ratings</th>\n",
       "      <th>no_of_ratings</th>\n",
       "      <th>PRICE</th>\n",
       "    </tr>\n",
       "  </thead>\n",
       "  <tbody>\n",
       "    <tr>\n",
       "      <th>0</th>\n",
       "      <td>1</td>\n",
       "      <td>Redmi 10 Power (Power Black, 8GB RAM, 128GB St...</td>\n",
       "      <td>Electronics</td>\n",
       "      <td>Electronic Gadgets</td>\n",
       "      <td>4.0</td>\n",
       "      <td>965</td>\n",
       "      <td>AUD 358.47</td>\n",
       "    </tr>\n",
       "    <tr>\n",
       "      <th>1</th>\n",
       "      <td>2</td>\n",
       "      <td>OnePlus Nord CE 2 Lite 5G (Blue Tide, 6GB RAM,...</td>\n",
       "      <td>Electronics</td>\n",
       "      <td>Electronic Gadgets</td>\n",
       "      <td>4.3</td>\n",
       "      <td>226</td>\n",
       "      <td>AUD 377.34</td>\n",
       "    </tr>\n",
       "    <tr>\n",
       "      <th>2</th>\n",
       "      <td>3</td>\n",
       "      <td>OnePlus Bullets Z2 Bluetooth Wireless in Ear E...</td>\n",
       "      <td>Electronics</td>\n",
       "      <td>Electronic Gadgets</td>\n",
       "      <td>4.2</td>\n",
       "      <td>54</td>\n",
       "      <td>AUD 43.38</td>\n",
       "    </tr>\n",
       "    <tr>\n",
       "      <th>3</th>\n",
       "      <td>4</td>\n",
       "      <td>Samsung Galaxy M33 5G (Mystique Green, 6GB, 12...</td>\n",
       "      <td>Electronics</td>\n",
       "      <td>Electronic Gadgets</td>\n",
       "      <td>4.1</td>\n",
       "      <td>701</td>\n",
       "      <td>AUD 471.68</td>\n",
       "    </tr>\n",
       "    <tr>\n",
       "      <th>4</th>\n",
       "      <td>5</td>\n",
       "      <td>OnePlus Nord CE 2 Lite 5G (Black Dusk, 6GB RAM...</td>\n",
       "      <td>Electronics</td>\n",
       "      <td>Electronic Gadgets</td>\n",
       "      <td>4.3</td>\n",
       "      <td>945</td>\n",
       "      <td>AUD 377.34</td>\n",
       "    </tr>\n",
       "  </tbody>\n",
       "</table>\n",
       "</div>"
      ],
      "text/plain": [
       "   Product_ID                                               name  \\\n",
       "0           1  Redmi 10 Power (Power Black, 8GB RAM, 128GB St...   \n",
       "1           2  OnePlus Nord CE 2 Lite 5G (Blue Tide, 6GB RAM,...   \n",
       "2           3  OnePlus Bullets Z2 Bluetooth Wireless in Ear E...   \n",
       "3           4  Samsung Galaxy M33 5G (Mystique Green, 6GB, 12...   \n",
       "4           5  OnePlus Nord CE 2 Lite 5G (Black Dusk, 6GB RAM...   \n",
       "\n",
       "  main_category        sub_category  ratings  no_of_ratings       PRICE  \n",
       "0   Electronics  Electronic Gadgets      4.0            965  AUD 358.47  \n",
       "1   Electronics  Electronic Gadgets      4.3            226  AUD 377.34  \n",
       "2   Electronics  Electronic Gadgets      4.2             54   AUD 43.38  \n",
       "3   Electronics  Electronic Gadgets      4.1            701  AUD 471.68  \n",
       "4   Electronics  Electronic Gadgets      4.3            945  AUD 377.34  "
      ]
     },
     "execution_count": 7,
     "metadata": {},
     "output_type": "execute_result"
    }
   ],
   "source": [
    "#check products datas\n",
    "products.head()"
   ]
  },
  {
   "cell_type": "code",
   "execution_count": 8,
   "metadata": {},
   "outputs": [
    {
     "data": {
      "text/html": [
       "<div>\n",
       "<style scoped>\n",
       "    .dataframe tbody tr th:only-of-type {\n",
       "        vertical-align: middle;\n",
       "    }\n",
       "\n",
       "    .dataframe tbody tr th {\n",
       "        vertical-align: top;\n",
       "    }\n",
       "\n",
       "    .dataframe thead th {\n",
       "        text-align: right;\n",
       "    }\n",
       "</style>\n",
       "<table border=\"1\" class=\"dataframe\">\n",
       "  <thead>\n",
       "    <tr style=\"text-align: right;\">\n",
       "      <th></th>\n",
       "      <th>user_id</th>\n",
       "      <th>product_id</th>\n",
       "      <th>user_rating</th>\n",
       "      <th>Product_ID</th>\n",
       "      <th>name</th>\n",
       "      <th>main_category</th>\n",
       "      <th>sub_category</th>\n",
       "      <th>ratings</th>\n",
       "      <th>no_of_ratings</th>\n",
       "      <th>PRICE</th>\n",
       "    </tr>\n",
       "  </thead>\n",
       "  <tbody>\n",
       "    <tr>\n",
       "      <th>0</th>\n",
       "      <td>1</td>\n",
       "      <td>44</td>\n",
       "      <td>2.1</td>\n",
       "      <td>44</td>\n",
       "      <td>Samsung Galaxy M04 Light Green, 4GB RAM, 64GB ...</td>\n",
       "      <td>Electronics</td>\n",
       "      <td>Electronic Gadgets</td>\n",
       "      <td>4.0</td>\n",
       "      <td>703</td>\n",
       "      <td>AUD 226.40</td>\n",
       "    </tr>\n",
       "    <tr>\n",
       "      <th>1</th>\n",
       "      <td>1</td>\n",
       "      <td>30</td>\n",
       "      <td>2.1</td>\n",
       "      <td>30</td>\n",
       "      <td>Hammer Ace 3.0 Bluetooth Calling Smart Watch w...</td>\n",
       "      <td>Electronics</td>\n",
       "      <td>Electronic Gadgets</td>\n",
       "      <td>3.9</td>\n",
       "      <td>844</td>\n",
       "      <td>AUD 94.32</td>\n",
       "    </tr>\n",
       "    <tr>\n",
       "      <th>2</th>\n",
       "      <td>1</td>\n",
       "      <td>50</td>\n",
       "      <td>1.6</td>\n",
       "      <td>50</td>\n",
       "      <td>Redmi 10A (Slate Grey, 4GB RAM, 64GB Storage) ...</td>\n",
       "      <td>Electronics</td>\n",
       "      <td>Electronic Gadgets</td>\n",
       "      <td>4.0</td>\n",
       "      <td>254</td>\n",
       "      <td>AUD 226.40</td>\n",
       "    </tr>\n",
       "    <tr>\n",
       "      <th>3</th>\n",
       "      <td>1</td>\n",
       "      <td>4</td>\n",
       "      <td>4.6</td>\n",
       "      <td>4</td>\n",
       "      <td>Samsung Galaxy M33 5G (Mystique Green, 6GB, 12...</td>\n",
       "      <td>Electronics</td>\n",
       "      <td>Electronic Gadgets</td>\n",
       "      <td>4.1</td>\n",
       "      <td>701</td>\n",
       "      <td>AUD 471.68</td>\n",
       "    </tr>\n",
       "    <tr>\n",
       "      <th>4</th>\n",
       "      <td>1</td>\n",
       "      <td>3</td>\n",
       "      <td>2.0</td>\n",
       "      <td>3</td>\n",
       "      <td>OnePlus Bullets Z2 Bluetooth Wireless in Ear E...</td>\n",
       "      <td>Electronics</td>\n",
       "      <td>Electronic Gadgets</td>\n",
       "      <td>4.2</td>\n",
       "      <td>54</td>\n",
       "      <td>AUD 43.38</td>\n",
       "    </tr>\n",
       "  </tbody>\n",
       "</table>\n",
       "</div>"
      ],
      "text/plain": [
       "   user_id  product_id  user_rating  Product_ID  \\\n",
       "0        1          44          2.1          44   \n",
       "1        1          30          2.1          30   \n",
       "2        1          50          1.6          50   \n",
       "3        1           4          4.6           4   \n",
       "4        1           3          2.0           3   \n",
       "\n",
       "                                                name main_category  \\\n",
       "0  Samsung Galaxy M04 Light Green, 4GB RAM, 64GB ...   Electronics   \n",
       "1  Hammer Ace 3.0 Bluetooth Calling Smart Watch w...   Electronics   \n",
       "2  Redmi 10A (Slate Grey, 4GB RAM, 64GB Storage) ...   Electronics   \n",
       "3  Samsung Galaxy M33 5G (Mystique Green, 6GB, 12...   Electronics   \n",
       "4  OnePlus Bullets Z2 Bluetooth Wireless in Ear E...   Electronics   \n",
       "\n",
       "         sub_category  ratings  no_of_ratings       PRICE  \n",
       "0  Electronic Gadgets      4.0            703  AUD 226.40  \n",
       "1  Electronic Gadgets      3.9            844   AUD 94.32  \n",
       "2  Electronic Gadgets      4.0            254  AUD 226.40  \n",
       "3  Electronic Gadgets      4.1            701  AUD 471.68  \n",
       "4  Electronic Gadgets      4.2             54   AUD 43.38  "
      ]
     },
     "execution_count": 8,
     "metadata": {},
     "output_type": "execute_result"
    }
   ],
   "source": [
    "#join the two data sets\n",
    "df = pd.merge(customer,products,left_on='product_id',right_on='Product_ID',how='left')\n",
    "df.head()\n"
   ]
  },
  {
   "cell_type": "code",
   "execution_count": 9,
   "metadata": {},
   "outputs": [
    {
     "data": {
      "text/html": [
       "<div>\n",
       "<style scoped>\n",
       "    .dataframe tbody tr th:only-of-type {\n",
       "        vertical-align: middle;\n",
       "    }\n",
       "\n",
       "    .dataframe tbody tr th {\n",
       "        vertical-align: top;\n",
       "    }\n",
       "\n",
       "    .dataframe thead th {\n",
       "        text-align: right;\n",
       "    }\n",
       "</style>\n",
       "<table border=\"1\" class=\"dataframe\">\n",
       "  <thead>\n",
       "    <tr style=\"text-align: right;\">\n",
       "      <th></th>\n",
       "      <th>count</th>\n",
       "      <th>mean</th>\n",
       "      <th>std</th>\n",
       "      <th>min</th>\n",
       "      <th>25%</th>\n",
       "      <th>50%</th>\n",
       "      <th>75%</th>\n",
       "      <th>max</th>\n",
       "    </tr>\n",
       "  </thead>\n",
       "  <tbody>\n",
       "    <tr>\n",
       "      <th>user_id</th>\n",
       "      <td>86465.0</td>\n",
       "      <td>5996.300584</td>\n",
       "      <td>3463.975651</td>\n",
       "      <td>1.0</td>\n",
       "      <td>2995.0</td>\n",
       "      <td>5993.0</td>\n",
       "      <td>8996.0</td>\n",
       "      <td>12000.0</td>\n",
       "    </tr>\n",
       "    <tr>\n",
       "      <th>product_id</th>\n",
       "      <td>86465.0</td>\n",
       "      <td>25.561117</td>\n",
       "      <td>14.416922</td>\n",
       "      <td>1.0</td>\n",
       "      <td>13.0</td>\n",
       "      <td>26.0</td>\n",
       "      <td>38.0</td>\n",
       "      <td>50.0</td>\n",
       "    </tr>\n",
       "    <tr>\n",
       "      <th>user_rating</th>\n",
       "      <td>86465.0</td>\n",
       "      <td>3.004235</td>\n",
       "      <td>1.153766</td>\n",
       "      <td>1.0</td>\n",
       "      <td>2.0</td>\n",
       "      <td>3.0</td>\n",
       "      <td>4.0</td>\n",
       "      <td>5.0</td>\n",
       "    </tr>\n",
       "    <tr>\n",
       "      <th>Product_ID</th>\n",
       "      <td>86465.0</td>\n",
       "      <td>25.561117</td>\n",
       "      <td>14.416922</td>\n",
       "      <td>1.0</td>\n",
       "      <td>13.0</td>\n",
       "      <td>26.0</td>\n",
       "      <td>38.0</td>\n",
       "      <td>50.0</td>\n",
       "    </tr>\n",
       "    <tr>\n",
       "      <th>ratings</th>\n",
       "      <td>86465.0</td>\n",
       "      <td>4.034567</td>\n",
       "      <td>0.397229</td>\n",
       "      <td>2.5</td>\n",
       "      <td>4.0</td>\n",
       "      <td>4.1</td>\n",
       "      <td>4.3</td>\n",
       "      <td>4.6</td>\n",
       "    </tr>\n",
       "    <tr>\n",
       "      <th>no_of_ratings</th>\n",
       "      <td>86465.0</td>\n",
       "      <td>526.301290</td>\n",
       "      <td>283.258477</td>\n",
       "      <td>8.0</td>\n",
       "      <td>287.0</td>\n",
       "      <td>539.0</td>\n",
       "      <td>765.0</td>\n",
       "      <td>965.0</td>\n",
       "    </tr>\n",
       "  </tbody>\n",
       "</table>\n",
       "</div>"
      ],
      "text/plain": [
       "                 count         mean          std  min     25%     50%     75%  \\\n",
       "user_id        86465.0  5996.300584  3463.975651  1.0  2995.0  5993.0  8996.0   \n",
       "product_id     86465.0    25.561117    14.416922  1.0    13.0    26.0    38.0   \n",
       "user_rating    86465.0     3.004235     1.153766  1.0     2.0     3.0     4.0   \n",
       "Product_ID     86465.0    25.561117    14.416922  1.0    13.0    26.0    38.0   \n",
       "ratings        86465.0     4.034567     0.397229  2.5     4.0     4.1     4.3   \n",
       "no_of_ratings  86465.0   526.301290   283.258477  8.0   287.0   539.0   765.0   \n",
       "\n",
       "                   max  \n",
       "user_id        12000.0  \n",
       "product_id        50.0  \n",
       "user_rating        5.0  \n",
       "Product_ID        50.0  \n",
       "ratings            4.6  \n",
       "no_of_ratings    965.0  "
      ]
     },
     "execution_count": 9,
     "metadata": {},
     "output_type": "execute_result"
    }
   ],
   "source": [
    "# data distribution\n",
    "df.describe().T"
   ]
  },
  {
   "cell_type": "code",
   "execution_count": 10,
   "metadata": {},
   "outputs": [
    {
     "name": "stdout",
     "output_type": "stream",
     "text": [
      "<class 'pandas.core.frame.DataFrame'>\n",
      "RangeIndex: 86465 entries, 0 to 86464\n",
      "Data columns (total 10 columns):\n",
      " #   Column         Non-Null Count  Dtype  \n",
      "---  ------         --------------  -----  \n",
      " 0   user_id        86465 non-null  int64  \n",
      " 1   product_id     86465 non-null  int64  \n",
      " 2   user_rating    86465 non-null  float64\n",
      " 3   Product_ID     86465 non-null  int64  \n",
      " 4   name           86465 non-null  object \n",
      " 5   main_category  86465 non-null  object \n",
      " 6   sub_category   86465 non-null  object \n",
      " 7   ratings        86465 non-null  float64\n",
      " 8   no_of_ratings  86465 non-null  int64  \n",
      " 9   PRICE          86465 non-null  object \n",
      "dtypes: float64(2), int64(4), object(4)\n",
      "memory usage: 6.6+ MB\n"
     ]
    }
   ],
   "source": [
    "# check number of rows and columns , data types, contains null or not\n",
    "df.info()"
   ]
  },
  {
   "cell_type": "code",
   "execution_count": 11,
   "metadata": {},
   "outputs": [
    {
     "data": {
      "text/plain": [
       "0"
      ]
     },
     "execution_count": 11,
     "metadata": {},
     "output_type": "execute_result"
    }
   ],
   "source": [
    "#check duplication\n",
    "df.duplicated().sum()"
   ]
  },
  {
   "cell_type": "code",
   "execution_count": 12,
   "metadata": {},
   "outputs": [
    {
     "data": {
      "text/html": [
       "<div>\n",
       "<style scoped>\n",
       "    .dataframe tbody tr th:only-of-type {\n",
       "        vertical-align: middle;\n",
       "    }\n",
       "\n",
       "    .dataframe tbody tr th {\n",
       "        vertical-align: top;\n",
       "    }\n",
       "\n",
       "    .dataframe thead th {\n",
       "        text-align: right;\n",
       "    }\n",
       "</style>\n",
       "<table border=\"1\" class=\"dataframe\">\n",
       "  <thead>\n",
       "    <tr style=\"text-align: right;\">\n",
       "      <th></th>\n",
       "      <th></th>\n",
       "      <th>user_id</th>\n",
       "      <th>product_id</th>\n",
       "      <th>user_rating</th>\n",
       "      <th>Product_ID</th>\n",
       "      <th>name</th>\n",
       "      <th>ratings</th>\n",
       "      <th>no_of_ratings</th>\n",
       "      <th>PRICE</th>\n",
       "    </tr>\n",
       "    <tr>\n",
       "      <th>main_category</th>\n",
       "      <th>sub_category</th>\n",
       "      <th></th>\n",
       "      <th></th>\n",
       "      <th></th>\n",
       "      <th></th>\n",
       "      <th></th>\n",
       "      <th></th>\n",
       "      <th></th>\n",
       "      <th></th>\n",
       "    </tr>\n",
       "  </thead>\n",
       "  <tbody>\n",
       "    <tr>\n",
       "      <th>Electronics</th>\n",
       "      <th>Electronic Gadgets</th>\n",
       "      <td>86465</td>\n",
       "      <td>86465</td>\n",
       "      <td>86465</td>\n",
       "      <td>86465</td>\n",
       "      <td>86465</td>\n",
       "      <td>86465</td>\n",
       "      <td>86465</td>\n",
       "      <td>86465</td>\n",
       "    </tr>\n",
       "  </tbody>\n",
       "</table>\n",
       "</div>"
      ],
      "text/plain": [
       "                                  user_id  product_id  user_rating  \\\n",
       "main_category sub_category                                           \n",
       "Electronics   Electronic Gadgets    86465       86465        86465   \n",
       "\n",
       "                                  Product_ID   name  ratings  no_of_ratings  \\\n",
       "main_category sub_category                                                    \n",
       "Electronics   Electronic Gadgets       86465  86465    86465          86465   \n",
       "\n",
       "                                  PRICE  \n",
       "main_category sub_category               \n",
       "Electronics   Electronic Gadgets  86465  "
      ]
     },
     "execution_count": 12,
     "metadata": {},
     "output_type": "execute_result"
    }
   ],
   "source": [
    "# check if there are from multiple categories and sub-categories\n",
    "df.groupby(['main_category','sub_category']).count()"
   ]
  },
  {
   "cell_type": "markdown",
   "metadata": {},
   "source": [
    "- note: It seems the data contians only from sub-category 'Electronic Gadgets'. we might have to use a different approches here to solve our problem."
   ]
  },
  {
   "cell_type": "markdown",
   "metadata": {},
   "source": [
    "#### cleaning process"
   ]
  },
  {
   "cell_type": "code",
   "execution_count": 13,
   "metadata": {},
   "outputs": [],
   "source": [
    "# drop the 'Poduct_ID', since we need only one\n",
    "# drop main_category and sub_category since all the datas from from one category\n",
    "df = df.drop(['Product_ID','main_category', 'sub_category'],axis=1)\n",
    "# rename the columns to make it clean\n",
    "df.rename(columns={'user_id':'userId', 'product_id':'productId', 'user_rating':'userRating', 'name':'productName', \\\n",
    "    'ratings':'productRating', 'no_of_ratings':'noOfRatings', 'PRICE':'price'}, inplace=True)"
   ]
  },
  {
   "cell_type": "code",
   "execution_count": 14,
   "metadata": {},
   "outputs": [],
   "source": [
    "# remove AUD from price\n",
    "# convert into numberic values \n",
    "# then to USD dolalar (1AUD = .65 USD)\n",
    "df['price']= pd.to_numeric(df['price'].str.replace('AUD','')) *.65"
   ]
  },
  {
   "cell_type": "code",
   "execution_count": 15,
   "metadata": {},
   "outputs": [
    {
     "data": {
      "text/html": [
       "<div>\n",
       "<style scoped>\n",
       "    .dataframe tbody tr th:only-of-type {\n",
       "        vertical-align: middle;\n",
       "    }\n",
       "\n",
       "    .dataframe tbody tr th {\n",
       "        vertical-align: top;\n",
       "    }\n",
       "\n",
       "    .dataframe thead th {\n",
       "        text-align: right;\n",
       "    }\n",
       "</style>\n",
       "<table border=\"1\" class=\"dataframe\">\n",
       "  <thead>\n",
       "    <tr style=\"text-align: right;\">\n",
       "      <th></th>\n",
       "      <th>userId</th>\n",
       "      <th>productId</th>\n",
       "      <th>userRating</th>\n",
       "      <th>productName</th>\n",
       "      <th>productRating</th>\n",
       "      <th>noOfRatings</th>\n",
       "      <th>price</th>\n",
       "    </tr>\n",
       "  </thead>\n",
       "  <tbody>\n",
       "    <tr>\n",
       "      <th>57065</th>\n",
       "      <td>7918</td>\n",
       "      <td>37</td>\n",
       "      <td>2.0</td>\n",
       "      <td>OnePlus 11R 5G (Galactic Silver, 8GB RAM, 128G...</td>\n",
       "      <td>4.6</td>\n",
       "      <td>338</td>\n",
       "      <td>490.5550</td>\n",
       "    </tr>\n",
       "    <tr>\n",
       "      <th>72677</th>\n",
       "      <td>10077</td>\n",
       "      <td>37</td>\n",
       "      <td>2.5</td>\n",
       "      <td>OnePlus 11R 5G (Galactic Silver, 8GB RAM, 128G...</td>\n",
       "      <td>4.6</td>\n",
       "      <td>338</td>\n",
       "      <td>490.5550</td>\n",
       "    </tr>\n",
       "    <tr>\n",
       "      <th>74543</th>\n",
       "      <td>10339</td>\n",
       "      <td>47</td>\n",
       "      <td>1.7</td>\n",
       "      <td>boAt Bassheads 220 Wired in Ear Earphones(Blac...</td>\n",
       "      <td>4.1</td>\n",
       "      <td>742</td>\n",
       "      <td>12.2525</td>\n",
       "    </tr>\n",
       "    <tr>\n",
       "      <th>39192</th>\n",
       "      <td>5429</td>\n",
       "      <td>22</td>\n",
       "      <td>2.5</td>\n",
       "      <td>Redmi A1 (Black, 2GB RAM, 32GB Storage) | Segm...</td>\n",
       "      <td>4.0</td>\n",
       "      <td>535</td>\n",
       "      <td>110.3635</td>\n",
       "    </tr>\n",
       "    <tr>\n",
       "      <th>4418</th>\n",
       "      <td>613</td>\n",
       "      <td>41</td>\n",
       "      <td>3.5</td>\n",
       "      <td>pTron Bassbuds Duo in Ear Earbuds with 32Hrs T...</td>\n",
       "      <td>3.5</td>\n",
       "      <td>737</td>\n",
       "      <td>31.8760</td>\n",
       "    </tr>\n",
       "  </tbody>\n",
       "</table>\n",
       "</div>"
      ],
      "text/plain": [
       "       userId  productId  userRating  \\\n",
       "57065    7918         37         2.0   \n",
       "72677   10077         37         2.5   \n",
       "74543   10339         47         1.7   \n",
       "39192    5429         22         2.5   \n",
       "4418      613         41         3.5   \n",
       "\n",
       "                                             productName  productRating  \\\n",
       "57065  OnePlus 11R 5G (Galactic Silver, 8GB RAM, 128G...            4.6   \n",
       "72677  OnePlus 11R 5G (Galactic Silver, 8GB RAM, 128G...            4.6   \n",
       "74543  boAt Bassheads 220 Wired in Ear Earphones(Blac...            4.1   \n",
       "39192  Redmi A1 (Black, 2GB RAM, 32GB Storage) | Segm...            4.0   \n",
       "4418   pTron Bassbuds Duo in Ear Earbuds with 32Hrs T...            3.5   \n",
       "\n",
       "       noOfRatings     price  \n",
       "57065          338  490.5550  \n",
       "72677          338  490.5550  \n",
       "74543          742   12.2525  \n",
       "39192          535  110.3635  \n",
       "4418           737   31.8760  "
      ]
     },
     "execution_count": 15,
     "metadata": {},
     "output_type": "execute_result"
    }
   ],
   "source": [
    "df.sample(5)"
   ]
  },
  {
   "cell_type": "markdown",
   "metadata": {},
   "source": [
    "## Exploratory Data Analysis"
   ]
  },
  {
   "cell_type": "code",
   "execution_count": 16,
   "metadata": {},
   "outputs": [
    {
     "data": {
      "image/png": "[encoded data removed]",
      "text/plain": [
       "<Figure size 1200x600 with 4 Axes>"
      ]
     },
     "metadata": {},
     "output_type": "display_data"
    }
   ],
   "source": [
    "# Explore the distribution of numerical columns\n",
    "plt.figure(figsize=(12, 6))\n",
    "for i, col in enumerate(['userRating', 'productRating', 'noOfRatings', 'price']):\n",
    "    plt.subplot(2, 2, i+1)\n",
    "    sns.histplot(df[col], bins=20, kde=True)\n",
    "plt.tight_layout()\n",
    "plt.show()"
   ]
  },
  {
   "cell_type": "code",
   "execution_count": 17,
   "metadata": {},
   "outputs": [
    {
     "data": {
      "image/png": "[encoded data removed]",
      "text/plain": [
       "<Figure size 640x480 with 2 Axes>"
      ]
     },
     "metadata": {},
     "output_type": "display_data"
    }
   ],
   "source": [
    "#Select only numeric columns \n",
    "numerical_features = ['productId', 'userRating', 'productRating','noOfRatings', 'price']\n",
    "\n",
    "#Inferential statistics\n",
    "correlation_matrix = df[numerical_features].corr()\n",
    "#Data relationships - Data visualization\n",
    "sns.heatmap(correlation_matrix, annot=True)\n",
    "plt.title('Correlation Matrix')\n",
    "plt.show()"
   ]
  },
  {
   "cell_type": "markdown",
   "metadata": {},
   "source": [
    "- There is a weak positive correlation (0.327) between productRating and price."
   ]
  },
  {
   "cell_type": "markdown",
   "metadata": {},
   "source": [
    "### Since I dont see any high correlation and i'll only focus more on Products and given user Ratings"
   ]
  },
  {
   "cell_type": "code",
   "execution_count": 18,
   "metadata": {},
   "outputs": [
    {
     "data": {
      "image/png": "[encoded data removed]",
      "text/plain": [
       "<Figure size 640x480 with 1 Axes>"
      ]
     },
     "metadata": {},
     "output_type": "display_data"
    }
   ],
   "source": [
    "#Total number of products each user bought\n",
    "user_product_count = df.groupby('userId')['productId'].count()\n",
    "\n",
    "# Plot the distribution\n",
    "plt.hist(user_product_count)\n",
    "plt.title('Total Number of Products Bought Per User')\n",
    "plt.xlabel('Total Products Bought')\n",
    "plt.ylabel('Frequency')\n",
    "plt.show()"
   ]
  },
  {
   "cell_type": "code",
   "execution_count": 19,
   "metadata": {},
   "outputs": [
    {
     "data": {
      "text/plain": [
       "min      5.000000\n",
       "max     10.000000\n",
       "mean     7.205417\n",
       "Name: productId, dtype: float64"
      ]
     },
     "execution_count": 19,
     "metadata": {},
     "output_type": "execute_result"
    }
   ],
   "source": [
    "# Find products bought min, max, mean\n",
    "user_product_count.agg(['min','max','mean'])"
   ]
  },
  {
   "cell_type": "markdown",
   "metadata": {},
   "source": [
    "- Most of user have bought atleast 5 products, max is 10 products and average of 7 products"
   ]
  },
  {
   "cell_type": "code",
   "execution_count": 20,
   "metadata": {},
   "outputs": [
    {
     "data": {
      "text/plain": [
       "Text(0, 0.5, 'Frequency')"
      ]
     },
     "execution_count": 20,
     "metadata": {},
     "output_type": "execute_result"
    },
    {
     "data": {
      "image/png": "[encoded data removed]",
      "text/plain": [
       "<Figure size 640x480 with 1 Axes>"
      ]
     },
     "metadata": {},
     "output_type": "display_data"
    }
   ],
   "source": [
    "df.groupby('userId')['userRating'].mean().hist()\n",
    "plt.title('Average Ratings Distribution')\n",
    "plt.xlabel('Ratings')\n",
    "plt.ylabel('Frequency')"
   ]
  },
  {
   "cell_type": "code",
   "execution_count": 21,
   "metadata": {},
   "outputs": [
    {
     "data": {
      "text/plain": [
       "min     1.216667\n",
       "max     4.560000\n",
       "mean    3.004395\n",
       "Name: userRating, dtype: float64"
      ]
     },
     "execution_count": 21,
     "metadata": {},
     "output_type": "execute_result"
    }
   ],
   "source": [
    "# Find products given ratigns:  min, max, mean\n",
    "df.groupby('userId')['userRating'].mean().agg(['min','max','mean'])"
   ]
  },
  {
   "cell_type": "markdown",
   "metadata": {},
   "source": [
    "- Most of user gave 3.0 ratings, max is 4.56 and min of 1.2"
   ]
  },
  {
   "cell_type": "code",
   "execution_count": 22,
   "metadata": {},
   "outputs": [
    {
     "data": {
      "text/plain": [
       "productName\n",
       "OnePlus Bullets Z2 Bluetooth Wireless in Ear Earphones with Mic, Bombastic Bass - 12.4 Mm Drivers, 10 Mins Charge - 20 Hrs...    5089\n",
       "boAt Airdopes 141 Bluetooth Truly Wireless in Ear Earbuds with 42H Playtime, Beast Mode(Low Latency Upto 80ms) for Gaming,...    3547\n",
       "boAt Rockerz 255 Pro+ in-Ear Bluetooth Neckband with Upto 40 Hours Playback, ASAP Charge, IPX7, Dual Pairing, BT v5.0, wi...    3412\n",
       "Hammer Ace 3.0 Bluetooth Calling Smart Watch with Largest 1.85\" IPS Display, Dual Mode, Spo2, Heart Rate, Strong Metallic ...    1824\n",
       "Samsung Galaxy M33 5G (Emerald Brown, 6GB, 128GB Storage) | 6000mAh Battery | Upto 12GB RAM with RAM Plus | Travel Adapter...    1796\n",
       "Name: productId, dtype: int64"
      ]
     },
     "execution_count": 22,
     "metadata": {},
     "output_type": "execute_result"
    }
   ],
   "source": [
    "#Top most bought products.\n",
    "df.groupby(['productName'])['productId'].count().sort_values(ascending=False).head()"
   ]
  },
  {
   "cell_type": "code",
   "execution_count": 23,
   "metadata": {},
   "outputs": [
    {
     "data": {
      "text/plain": [
       "productName\n",
       "Samsung Galaxy M04 Light Green, 4GB RAM, 64GB Storage | Upto 8GB RAM with RAM Plus | MediaTek Helio P35 | 5000 mAh Battery       3.094097\n",
       "Apple 20W USB-C Power Adapter (for iPhone, iPad & AirPods)                                                                       3.056964\n",
       "Samsung Galaxy M33 5G (Mystique Green, 6GB, 128GB Storage) | 6000mAh Battery | Upto 12GB RAM with RAM Plus | Travel Adapte...    3.051130\n",
       "Redmi 10A (Charcoal Black, 4GB RAM, 64GB Storage) | 2 Ghz Octa Core Helio G25 | 5000 mAh Battery | Finger Print Sensor | U...    3.039989\n",
       "iQOO Z6 Lite 5G by vivo (Stellar Green, 6GB RAM, 128GB Storage) | World's First Snapdragon 4 Gen 1 | 120Hz Refresh Rate | ...    3.037867\n",
       "Name: userRating, dtype: float64"
      ]
     },
     "execution_count": 23,
     "metadata": {},
     "output_type": "execute_result"
    }
   ],
   "source": [
    "#Top most products by ratings\n",
    "df.groupby('productName')['userRating'].mean().sort_values(ascending=False).head()"
   ]
  },
  {
   "cell_type": "markdown",
   "metadata": {},
   "source": [
    "## Modelling "
   ]
  },
  {
   "cell_type": "markdown",
   "metadata": {},
   "source": [
    "### Applying the Collaborative filtering process"
   ]
  },
  {
   "cell_type": "code",
   "execution_count": 24,
   "metadata": {},
   "outputs": [
    {
     "data": {
      "text/html": [
       "<div>\n",
       "<style scoped>\n",
       "    .dataframe tbody tr th:only-of-type {\n",
       "        vertical-align: middle;\n",
       "    }\n",
       "\n",
       "    .dataframe tbody tr th {\n",
       "        vertical-align: top;\n",
       "    }\n",
       "\n",
       "    .dataframe thead th {\n",
       "        text-align: right;\n",
       "    }\n",
       "</style>\n",
       "<table border=\"1\" class=\"dataframe\">\n",
       "  <thead>\n",
       "    <tr style=\"text-align: right;\">\n",
       "      <th>productName</th>\n",
       "      <th>Apple 20W USB-C Power Adapter (for iPhone, iPad &amp; AirPods)</th>\n",
       "      <th>Fire-Boltt Ninja Call Pro Plus 1.83\" Smart Watch with Bluetooth Calling, AI Voice Assistance, 100 Sports Modes IP67 Ratin...</th>\n",
       "      <th>Fire-Boltt Phoenix Smart Watch with Bluetooth Calling 1.3\",120+ Sports Modes, 240 * 240 PX High Res with SpO2, Heart Rate ...</th>\n",
       "      <th>Hammer Ace 3.0 Bluetooth Calling Smart Watch with Largest 1.85\" IPS Display, Dual Mode, Spo2, Heart Rate, Strong Metallic ...</th>\n",
       "      <th>Lapster 5-in-1 Multi-Function Laptop Cleaning Brush/Keyboard Cleaning kit/Gadget Cleaning kit Gap Duster Key-Cap Puller fo...</th>\n",
       "      <th>MI Power Bank 3i 20000mAh Lithium Polymer 18W Fast Power Delivery Charging | Input- Type C | Micro USB| Triple Output | Sa...</th>\n",
       "      <th>OnePlus 11R 5G (Galactic Silver, 16GB RAM, 256GB Storage)</th>\n",
       "      <th>OnePlus 11R 5G (Galactic Silver, 8GB RAM, 128GB Storage)</th>\n",
       "      <th>OnePlus Bullets Z2 Bluetooth Wireless in Ear Earphones with Mic, Bombastic Bass - 12.4 Mm Drivers, 10 Mins Charge - 20 Hrs...</th>\n",
       "      <th>OnePlus Nord 2T 5G (Gray Shadow, 8GB RAM, 128GB Storage)</th>\n",
       "      <th>...</th>\n",
       "      <th>boAt BassHeads 100 in-Ear Wired Headphones with Mic (Black)</th>\n",
       "      <th>boAt Bassheads 220 Wired in Ear Earphones(Black Indi)</th>\n",
       "      <th>boAt Rockerz 255 Pro+ in-Ear Bluetooth Neckband with Upto 40 Hours Playback, ASAP Charge, IPX7, Dual Pairing, BT v5.0, wi...</th>\n",
       "      <th>boAt Rockerz 330 Bluetooth Wireless in Ear Earphones with mic, Upto 30 Hours Playtime, ASAP Charge, Signature Sound, Dual ...</th>\n",
       "      <th>boAt Rockerz 450 Bluetooth On Ear Headphones with Mic, Upto 15 Hours Playback, 40MM Drivers, Padded Ear Cushions, Integrat...</th>\n",
       "      <th>boAt Wave Call Smart Watch, Smart Talk with Advanced Dedicated Bluetooth Calling Chip, 1.69 HD Display with 550 NITS &amp; 70%...</th>\n",
       "      <th>iQOO Z6 Lite 5G by vivo (Stellar Green, 6GB RAM, 128GB Storage) | World's First Snapdragon 4 Gen 1 | 120Hz Refresh Rate | ...</th>\n",
       "      <th>pTron Bassbuds Duo in Ear Earbuds with 32Hrs Total Playtime, Bluetooth 5.1 Wireless, Stereo Audio, Touch Control TWS, with...</th>\n",
       "      <th>realme narzo 50A Prime (Flash Black, 4GB RAM+64GB Storage) Full High Definition+ Display |50MP AI Triple Camera| Charger I...</th>\n",
       "      <th>realme narzo 50A Prime (Flash Blue, 4GB RAM+128GB Storage) FHD+ Display | 50MP AI Triple Camera| Charger Included</th>\n",
       "    </tr>\n",
       "    <tr>\n",
       "      <th>userId</th>\n",
       "      <th></th>\n",
       "      <th></th>\n",
       "      <th></th>\n",
       "      <th></th>\n",
       "      <th></th>\n",
       "      <th></th>\n",
       "      <th></th>\n",
       "      <th></th>\n",
       "      <th></th>\n",
       "      <th></th>\n",
       "      <th></th>\n",
       "      <th></th>\n",
       "      <th></th>\n",
       "      <th></th>\n",
       "      <th></th>\n",
       "      <th></th>\n",
       "      <th></th>\n",
       "      <th></th>\n",
       "      <th></th>\n",
       "      <th></th>\n",
       "      <th></th>\n",
       "    </tr>\n",
       "  </thead>\n",
       "  <tbody>\n",
       "    <tr>\n",
       "      <th>1</th>\n",
       "      <td>2.2</td>\n",
       "      <td>0.0</td>\n",
       "      <td>0.0</td>\n",
       "      <td>2.1</td>\n",
       "      <td>0.0</td>\n",
       "      <td>0.0</td>\n",
       "      <td>0.0</td>\n",
       "      <td>0.0</td>\n",
       "      <td>2.0</td>\n",
       "      <td>0.0</td>\n",
       "      <td>...</td>\n",
       "      <td>0.0</td>\n",
       "      <td>0.0</td>\n",
       "      <td>0.0</td>\n",
       "      <td>0.0</td>\n",
       "      <td>0.0</td>\n",
       "      <td>0.0</td>\n",
       "      <td>0.0</td>\n",
       "      <td>0.0</td>\n",
       "      <td>0.0</td>\n",
       "      <td>0.0</td>\n",
       "    </tr>\n",
       "    <tr>\n",
       "      <th>2</th>\n",
       "      <td>0.0</td>\n",
       "      <td>0.0</td>\n",
       "      <td>2.3</td>\n",
       "      <td>0.0</td>\n",
       "      <td>0.0</td>\n",
       "      <td>0.0</td>\n",
       "      <td>0.0</td>\n",
       "      <td>0.0</td>\n",
       "      <td>3.6</td>\n",
       "      <td>0.0</td>\n",
       "      <td>...</td>\n",
       "      <td>0.0</td>\n",
       "      <td>0.0</td>\n",
       "      <td>0.0</td>\n",
       "      <td>0.0</td>\n",
       "      <td>0.0</td>\n",
       "      <td>0.0</td>\n",
       "      <td>3.6</td>\n",
       "      <td>0.0</td>\n",
       "      <td>0.0</td>\n",
       "      <td>0.0</td>\n",
       "    </tr>\n",
       "    <tr>\n",
       "      <th>3</th>\n",
       "      <td>4.0</td>\n",
       "      <td>3.8</td>\n",
       "      <td>0.0</td>\n",
       "      <td>0.0</td>\n",
       "      <td>0.0</td>\n",
       "      <td>0.0</td>\n",
       "      <td>0.0</td>\n",
       "      <td>0.0</td>\n",
       "      <td>0.0</td>\n",
       "      <td>0.0</td>\n",
       "      <td>...</td>\n",
       "      <td>0.0</td>\n",
       "      <td>0.0</td>\n",
       "      <td>0.0</td>\n",
       "      <td>0.0</td>\n",
       "      <td>1.5</td>\n",
       "      <td>0.0</td>\n",
       "      <td>0.0</td>\n",
       "      <td>0.0</td>\n",
       "      <td>0.0</td>\n",
       "      <td>3.5</td>\n",
       "    </tr>\n",
       "    <tr>\n",
       "      <th>4</th>\n",
       "      <td>4.2</td>\n",
       "      <td>0.0</td>\n",
       "      <td>0.0</td>\n",
       "      <td>0.0</td>\n",
       "      <td>2.8</td>\n",
       "      <td>0.0</td>\n",
       "      <td>0.0</td>\n",
       "      <td>0.0</td>\n",
       "      <td>1.4</td>\n",
       "      <td>0.0</td>\n",
       "      <td>...</td>\n",
       "      <td>0.0</td>\n",
       "      <td>0.0</td>\n",
       "      <td>0.0</td>\n",
       "      <td>0.0</td>\n",
       "      <td>0.0</td>\n",
       "      <td>0.0</td>\n",
       "      <td>0.0</td>\n",
       "      <td>0.0</td>\n",
       "      <td>0.0</td>\n",
       "      <td>3.7</td>\n",
       "    </tr>\n",
       "    <tr>\n",
       "      <th>5</th>\n",
       "      <td>0.0</td>\n",
       "      <td>0.0</td>\n",
       "      <td>0.0</td>\n",
       "      <td>0.0</td>\n",
       "      <td>0.0</td>\n",
       "      <td>0.0</td>\n",
       "      <td>0.0</td>\n",
       "      <td>3.9</td>\n",
       "      <td>3.8</td>\n",
       "      <td>0.0</td>\n",
       "      <td>...</td>\n",
       "      <td>0.0</td>\n",
       "      <td>0.0</td>\n",
       "      <td>0.0</td>\n",
       "      <td>0.0</td>\n",
       "      <td>0.0</td>\n",
       "      <td>3.7</td>\n",
       "      <td>0.0</td>\n",
       "      <td>0.0</td>\n",
       "      <td>0.0</td>\n",
       "      <td>0.0</td>\n",
       "    </tr>\n",
       "  </tbody>\n",
       "</table>\n",
       "<p>5 rows × 46 columns</p>\n",
       "</div>"
      ],
      "text/plain": [
       "productName  Apple 20W USB-C Power Adapter (for iPhone, iPad & AirPods)  \\\n",
       "userId                                                                    \n",
       "1                                                          2.2            \n",
       "2                                                          0.0            \n",
       "3                                                          4.0            \n",
       "4                                                          4.2            \n",
       "5                                                          0.0            \n",
       "\n",
       "productName  Fire-Boltt Ninja Call Pro Plus 1.83\" Smart Watch with Bluetooth Calling, AI Voice Assistance, 100 Sports Modes IP67 Ratin...  \\\n",
       "userId                                                                                                                                      \n",
       "1                                                          0.0                                                                              \n",
       "2                                                          0.0                                                                              \n",
       "3                                                          3.8                                                                              \n",
       "4                                                          0.0                                                                              \n",
       "5                                                          0.0                                                                              \n",
       "\n",
       "productName  Fire-Boltt Phoenix Smart Watch with Bluetooth Calling 1.3\",120+ Sports Modes, 240 * 240 PX High Res with SpO2, Heart Rate ...  \\\n",
       "userId                                                                                                                                       \n",
       "1                                                          0.0                                                                               \n",
       "2                                                          2.3                                                                               \n",
       "3                                                          0.0                                                                               \n",
       "4                                                          0.0                                                                               \n",
       "5                                                          0.0                                                                               \n",
       "\n",
       "productName  Hammer Ace 3.0 Bluetooth Calling Smart Watch with Largest 1.85\" IPS Display, Dual Mode, Spo2, Heart Rate, Strong Metallic ...  \\\n",
       "userId                                                                                                                                       \n",
       "1                                                          2.1                                                                               \n",
       "2                                                          0.0                                                                               \n",
       "3                                                          0.0                                                                               \n",
       "4                                                          0.0                                                                               \n",
       "5                                                          0.0                                                                               \n",
       "\n",
       "productName  Lapster 5-in-1 Multi-Function Laptop Cleaning Brush/Keyboard Cleaning kit/Gadget Cleaning kit Gap Duster Key-Cap Puller fo...  \\\n",
       "userId                                                                                                                                       \n",
       "1                                                          0.0                                                                               \n",
       "2                                                          0.0                                                                               \n",
       "3                                                          0.0                                                                               \n",
       "4                                                          2.8                                                                               \n",
       "5                                                          0.0                                                                               \n",
       "\n",
       "productName  MI Power Bank 3i 20000mAh Lithium Polymer 18W Fast Power Delivery Charging | Input- Type C | Micro USB| Triple Output | Sa...  \\\n",
       "userId                                                                                                                                       \n",
       "1                                                          0.0                                                                               \n",
       "2                                                          0.0                                                                               \n",
       "3                                                          0.0                                                                               \n",
       "4                                                          0.0                                                                               \n",
       "5                                                          0.0                                                                               \n",
       "\n",
       "productName  OnePlus 11R 5G (Galactic Silver, 16GB RAM, 256GB Storage)  \\\n",
       "userId                                                                   \n",
       "1                                                          0.0           \n",
       "2                                                          0.0           \n",
       "3                                                          0.0           \n",
       "4                                                          0.0           \n",
       "5                                                          0.0           \n",
       "\n",
       "productName  OnePlus 11R 5G (Galactic Silver, 8GB RAM, 128GB Storage)  \\\n",
       "userId                                                                  \n",
       "1                                                          0.0          \n",
       "2                                                          0.0          \n",
       "3                                                          0.0          \n",
       "4                                                          0.0          \n",
       "5                                                          3.9          \n",
       "\n",
       "productName  OnePlus Bullets Z2 Bluetooth Wireless in Ear Earphones with Mic, Bombastic Bass - 12.4 Mm Drivers, 10 Mins Charge - 20 Hrs...  \\\n",
       "userId                                                                                                                                       \n",
       "1                                                          2.0                                                                               \n",
       "2                                                          3.6                                                                               \n",
       "3                                                          0.0                                                                               \n",
       "4                                                          1.4                                                                               \n",
       "5                                                          3.8                                                                               \n",
       "\n",
       "productName  OnePlus Nord 2T 5G (Gray Shadow, 8GB RAM, 128GB Storage)  ...  \\\n",
       "userId                                                                 ...   \n",
       "1                                                          0.0         ...   \n",
       "2                                                          0.0         ...   \n",
       "3                                                          0.0         ...   \n",
       "4                                                          0.0         ...   \n",
       "5                                                          0.0         ...   \n",
       "\n",
       "productName  boAt BassHeads 100 in-Ear Wired Headphones with Mic (Black)  \\\n",
       "userId                                                                     \n",
       "1                                                          0.0             \n",
       "2                                                          0.0             \n",
       "3                                                          0.0             \n",
       "4                                                          0.0             \n",
       "5                                                          0.0             \n",
       "\n",
       "productName  boAt Bassheads 220 Wired in Ear Earphones(Black Indi)  \\\n",
       "userId                                                               \n",
       "1                                                          0.0       \n",
       "2                                                          0.0       \n",
       "3                                                          0.0       \n",
       "4                                                          0.0       \n",
       "5                                                          0.0       \n",
       "\n",
       "productName  boAt Rockerz 255 Pro+ in-Ear Bluetooth Neckband with Upto 40 Hours Playback, ASAP Charge, IPX7, Dual Pairing, BT v5.0, wi...  \\\n",
       "userId                                                                                                                                       \n",
       "1                                                          0.0                                                                               \n",
       "2                                                          0.0                                                                               \n",
       "3                                                          0.0                                                                               \n",
       "4                                                          0.0                                                                               \n",
       "5                                                          0.0                                                                               \n",
       "\n",
       "productName  boAt Rockerz 330 Bluetooth Wireless in Ear Earphones with mic, Upto 30 Hours Playtime, ASAP Charge, Signature Sound, Dual ...  \\\n",
       "userId                                                                                                                                       \n",
       "1                                                          0.0                                                                               \n",
       "2                                                          0.0                                                                               \n",
       "3                                                          0.0                                                                               \n",
       "4                                                          0.0                                                                               \n",
       "5                                                          0.0                                                                               \n",
       "\n",
       "productName  boAt Rockerz 450 Bluetooth On Ear Headphones with Mic, Upto 15 Hours Playback, 40MM Drivers, Padded Ear Cushions, Integrat...  \\\n",
       "userId                                                                                                                                       \n",
       "1                                                          0.0                                                                               \n",
       "2                                                          0.0                                                                               \n",
       "3                                                          1.5                                                                               \n",
       "4                                                          0.0                                                                               \n",
       "5                                                          0.0                                                                               \n",
       "\n",
       "productName  boAt Wave Call Smart Watch, Smart Talk with Advanced Dedicated Bluetooth Calling Chip, 1.69 HD Display with 550 NITS & 70%...  \\\n",
       "userId                                                                                                                                       \n",
       "1                                                          0.0                                                                               \n",
       "2                                                          0.0                                                                               \n",
       "3                                                          0.0                                                                               \n",
       "4                                                          0.0                                                                               \n",
       "5                                                          3.7                                                                               \n",
       "\n",
       "productName  iQOO Z6 Lite 5G by vivo (Stellar Green, 6GB RAM, 128GB Storage) | World's First Snapdragon 4 Gen 1 | 120Hz Refresh Rate | ...  \\\n",
       "userId                                                                                                                                       \n",
       "1                                                          0.0                                                                               \n",
       "2                                                          3.6                                                                               \n",
       "3                                                          0.0                                                                               \n",
       "4                                                          0.0                                                                               \n",
       "5                                                          0.0                                                                               \n",
       "\n",
       "productName  pTron Bassbuds Duo in Ear Earbuds with 32Hrs Total Playtime, Bluetooth 5.1 Wireless, Stereo Audio, Touch Control TWS, with...  \\\n",
       "userId                                                                                                                                       \n",
       "1                                                          0.0                                                                               \n",
       "2                                                          0.0                                                                               \n",
       "3                                                          0.0                                                                               \n",
       "4                                                          0.0                                                                               \n",
       "5                                                          0.0                                                                               \n",
       "\n",
       "productName  realme narzo 50A Prime (Flash Black, 4GB RAM+64GB Storage) Full High Definition+ Display |50MP AI Triple Camera| Charger I...  \\\n",
       "userId                                                                                                                                       \n",
       "1                                                          0.0                                                                               \n",
       "2                                                          0.0                                                                               \n",
       "3                                                          0.0                                                                               \n",
       "4                                                          0.0                                                                               \n",
       "5                                                          0.0                                                                               \n",
       "\n",
       "productName  realme narzo 50A Prime (Flash Blue, 4GB RAM+128GB Storage) FHD+ Display | 50MP AI Triple Camera| Charger Included  \n",
       "userId                                                                                                                          \n",
       "1                                                          0.0                                                                  \n",
       "2                                                          0.0                                                                  \n",
       "3                                                          3.5                                                                  \n",
       "4                                                          3.7                                                                  \n",
       "5                                                          0.0                                                                  \n",
       "\n",
       "[5 rows x 46 columns]"
      ]
     },
     "execution_count": 24,
     "metadata": {},
     "output_type": "execute_result"
    }
   ],
   "source": [
    "# Convering data into matrix via pivot\n",
    "df_matrix= df.pivot_table(index='userId',columns='productName',values='userRating',fill_value=0)\n",
    "df_matrix.head()"
   ]
  },
  {
   "cell_type": "markdown",
   "metadata": {},
   "source": [
    "### Applying cosine_similarity "
   ]
  },
  {
   "cell_type": "code",
   "execution_count": 25,
   "metadata": {},
   "outputs": [],
   "source": [
    "from sklearn.metrics.pairwise import cosine_similarity\n",
    "\n",
    "# Calculate product similarity matrix\n",
    "product_similarity_df = pd.DataFrame(cosine_similarity(df_matrix.T), index=df_matrix.columns, columns=df_matrix.columns)\n",
    "\n",
    "# Function to recommend products to a user\n",
    "def recommend_products(user_id, n=5):\n",
    "    user_ratings = df_matrix.loc[user_id] # Filter for user's ratings\n",
    "    # Calculate the weighted average of similar products >Sort the recommendations in descending order> Exclude products already rated by the user\n",
    "    recommendations = product_similarity_df.dot(user_ratings).sort_values(ascending=False).drop(df[df['userId'] == user_id]['productName'], errors='ignore')\n",
    "    return recommendations.head(n) #Get the top n recommendations"
   ]
  },
  {
   "cell_type": "code",
   "execution_count": 26,
   "metadata": {},
   "outputs": [
    {
     "name": "stdout",
     "output_type": "stream",
     "text": [
      "productName\n",
      "OnePlus Bullets Z2 Bluetooth Wireless in Ear Earphones with Mic, Bombastic Bass - 12.4 Mm Drivers, 10 Mins Charge - 20 Hrs...    4.432600\n",
      "boAt Airdopes 141 Bluetooth Truly Wireless in Ear Earbuds with 42H Playtime, Beast Mode(Low Latency Upto 80ms) for Gaming,...    3.899365\n",
      "boAt Rockerz 255 Pro+ in-Ear Bluetooth Neckband with Upto 40 Hours Playback, ASAP Charge, IPX7, Dual Pairing, BT v5.0, wi...    3.742662\n",
      "Samsung Galaxy M33 5G (Mystique Green, 6GB, 128GB Storage) | 6000mAh Battery | Upto 12GB RAM with RAM Plus | Travel Adapte...    2.927478\n",
      "Hammer Ace 3.0 Bluetooth Calling Smart Watch with Largest 1.85\" IPS Display, Dual Mode, Spo2, Heart Rate, Strong Metallic ...    2.846701\n",
      "dtype: float64\n"
     ]
    }
   ],
   "source": [
    "# 1 Example: Recommend products to user with userId = 123\n",
    "user_id = 123\n",
    "recommendations = recommend_products(user_id)\n",
    "print(recommendations)"
   ]
  },
  {
   "cell_type": "code",
   "execution_count": 27,
   "metadata": {},
   "outputs": [
    {
     "name": "stdout",
     "output_type": "stream",
     "text": [
      "productName\n",
      "boAt Rockerz 255 Pro+ in-Ear Bluetooth Neckband with Upto 40 Hours Playback, ASAP Charge, IPX7, Dual Pairing, BT v5.0, wi...    2.058791\n",
      "boAt Airdopes 141 Bluetooth Truly Wireless in Ear Earbuds with 42H Playtime, Beast Mode(Low Latency Upto 80ms) for Gaming,...    2.027392\n",
      "Samsung Galaxy M33 5G (Emerald Brown, 6GB, 128GB Storage) | 6000mAh Battery | Upto 12GB RAM with RAM Plus | Travel Adapter...    1.601247\n",
      "iQOO Z6 Lite 5G by vivo (Stellar Green, 6GB RAM, 128GB Storage) | World's First Snapdragon 4 Gen 1 | 120Hz Refresh Rate | ...    1.571855\n",
      "Redmi 10 Power (Sporty Orange, 8GB RAM, 128GB Storage)                                                                           1.560885\n",
      "dtype: float64\n"
     ]
    }
   ],
   "source": [
    "# 2 Example : Recommend products to user with userId = 200\n",
    "user_id = 200\n",
    "recommendations = recommend_products(user_id)\n",
    "print(recommendations)"
   ]
  }
 ],
 "metadata": {
  "kernelspec": {
   "display_name": "base",
   "language": "python",
   "name": "python3"
  },
  "language_info": {
   "codemirror_mode": {
    "name": "ipython",
    "version": 3
   },
   "file_extension": ".py",
   "mimetype": "text/x-python",
   "name": "python",
   "nbconvert_exporter": "python",
   "pygments_lexer": "ipython3",
   "version": "3.12.1"
  }
 },
 "nbformat": 4,
 "nbformat_minor": 2
}
